{
 "cells": [
  {
   "cell_type": "code",
   "execution_count": 47,
   "id": "0fdb793f-5521-4911-b05c-c61dc46c6cd9",
   "metadata": {},
   "outputs": [],
   "source": [
    "import torch.nn as nn\n",
    "from torch.utils.data import DataLoader\n",
    "import torch.nn.functional as F\n",
    "import torch"
   ]
  },
  {
   "cell_type": "code",
   "execution_count": 2,
   "id": "df61917c-4884-4220-b98e-c9dfe7569c0d",
   "metadata": {},
   "outputs": [],
   "source": [
    "import sys\n",
    "import os\n",
    "module_path = os.path.abspath(os.path.join('../src')) # or the path to your source code\n",
    "sys.path.insert(0, module_path)"
   ]
  },
  {
   "cell_type": "code",
   "execution_count": 3,
   "id": "6acec957-7714-4d72-af88-9dda29d6da0f",
   "metadata": {},
   "outputs": [],
   "source": [
    "import simple_model"
   ]
  },
  {
   "cell_type": "code",
   "execution_count": 5,
   "id": "10261806-2e87-4d4a-9da7-7835cfb64bd6",
   "metadata": {},
   "outputs": [],
   "source": [
    "model_init = simple_model.FirstModel()"
   ]
  },
  {
   "cell_type": "code",
   "execution_count": 6,
   "id": "7e4ed5ef-cac2-4ea4-8f0c-054e17345964",
   "metadata": {},
   "outputs": [
    {
     "data": {
      "text/plain": [
       "0.01"
      ]
     },
     "execution_count": 6,
     "metadata": {},
     "output_type": "execute_result"
    }
   ],
   "source": [
    "model_init.lr"
   ]
  },
  {
   "cell_type": "code",
   "execution_count": 7,
   "id": "38f579d5-789f-461a-b94f-0b56ccc82e3f",
   "metadata": {},
   "outputs": [],
   "source": [
    "dataloader = model_init.transform_data()"
   ]
  },
  {
   "cell_type": "code",
   "execution_count": 8,
   "id": "84b6bc87-cb01-488c-8229-eda0678ea21c",
   "metadata": {},
   "outputs": [
    {
     "data": {
      "text/plain": [
       "{'train': <torch.utils.data.dataloader.DataLoader at 0x11e307b50>,\n",
       " 'val': <torch.utils.data.dataloader.DataLoader at 0x11e8dc9d0>}"
      ]
     },
     "execution_count": 8,
     "metadata": {},
     "output_type": "execute_result"
    }
   ],
   "source": [
    "dataloader"
   ]
  },
  {
   "cell_type": "code",
   "execution_count": 15,
   "id": "d3d16ff2-fb3c-46e4-9cf6-727b45179b72",
   "metadata": {},
   "outputs": [],
   "source": [
    "a = next(iter(dataloader['train']))"
   ]
  },
  {
   "cell_type": "code",
   "execution_count": 77,
   "id": "84aa56d4-a1e2-4a6c-ac89-415844efaa00",
   "metadata": {},
   "outputs": [
    {
     "data": {
      "text/plain": [
       "torch.Size([32, 3, 224, 224])"
      ]
     },
     "execution_count": 77,
     "metadata": {},
     "output_type": "execute_result"
    }
   ],
   "source": [
    "a[0].shape"
   ]
  },
  {
   "cell_type": "code",
   "execution_count": 82,
   "id": "73dbe81c-2d84-443d-b30d-34e899ea0f01",
   "metadata": {},
   "outputs": [],
   "source": [
    "conv1 = nn.Conv2d(in_channels=3, out_channels=3, kernel_size=7, stride=4)\n",
    "conv2 = nn.Conv2d(in_channels=3, out_channels=3, kernel_size=3)\n",
    "pool = nn.MaxPool2d(2, 2)\n",
    "fc1 = nn.Linear(432, 120)\n",
    "fc2 = nn.Linear(120, 84)\n",
    "fc3 = nn.Linear(84, 2)"
   ]
  },
  {
   "cell_type": "code",
   "execution_count": 60,
   "id": "abe2bde0-b098-42fc-935b-b9aea838786c",
   "metadata": {},
   "outputs": [],
   "source": [
    "b1 = l1(a[0])\n",
    "b1 = F.relu(b1)\n",
    "b2 = l2(b1)"
   ]
  },
  {
   "cell_type": "code",
   "execution_count": 61,
   "id": "e8a3d528-b9f2-410a-8948-515bda3f4c5d",
   "metadata": {},
   "outputs": [
    {
     "data": {
      "text/plain": [
       "torch.Size([32, 3, 53, 53])"
      ]
     },
     "execution_count": 61,
     "metadata": {},
     "output_type": "execute_result"
    }
   ],
   "source": [
    "b2.shape"
   ]
  },
  {
   "cell_type": "code",
   "execution_count": 64,
   "id": "f5a2b891-6e57-46d2-a2ae-33f8ae53efde",
   "metadata": {},
   "outputs": [],
   "source": [
    "b3 = torch.flatten(b2, 2)"
   ]
  },
  {
   "cell_type": "code",
   "execution_count": 65,
   "id": "04f44f37-dc41-4e36-80df-9ed1a1c5922a",
   "metadata": {},
   "outputs": [
    {
     "data": {
      "text/plain": [
       "torch.Size([32, 3, 2809])"
      ]
     },
     "execution_count": 65,
     "metadata": {},
     "output_type": "execute_result"
    }
   ],
   "source": [
    "b3.shape"
   ]
  },
  {
   "cell_type": "code",
   "execution_count": null,
   "id": "762043c7-2515-463a-92d1-647598a50fdd",
   "metadata": {},
   "outputs": [],
   "source": [
    "for i, data in enumerate(dataloader['train']):"
   ]
  },
  {
   "cell_type": "code",
   "execution_count": 83,
   "id": "8d9a9007-e418-48cc-9ae6-b3192b8f0e30",
   "metadata": {},
   "outputs": [],
   "source": [
    "x = a[0]\n",
    "x = pool(F.relu(conv1(x)))\n",
    "x = pool(F.relu(conv2(x)))\n",
    "x = torch.flatten(x, 1)\n",
    "x = F.relu(fc1(x))\n",
    "x = F.relu(fc2(x))\n",
    "x = fc3(x)"
   ]
  },
  {
   "cell_type": "code",
   "execution_count": 86,
   "id": "17b96395-d3cb-4569-9a6d-5bb739e23692",
   "metadata": {},
   "outputs": [],
   "source": [
    "pred_probab = nn.Softmax(dim=1)(x)"
   ]
  },
  {
   "cell_type": "code",
   "execution_count": 87,
   "id": "e9147607-2ac4-48ae-9ab1-dcf81d5c5051",
   "metadata": {},
   "outputs": [
    {
     "data": {
      "text/plain": [
       "tensor([[0.4474, 0.5526],\n",
       "        [0.4502, 0.5498],\n",
       "        [0.4497, 0.5503],\n",
       "        [0.4502, 0.5498],\n",
       "        [0.4509, 0.5491],\n",
       "        [0.4524, 0.5476],\n",
       "        [0.4507, 0.5493],\n",
       "        [0.4483, 0.5517],\n",
       "        [0.4490, 0.5510],\n",
       "        [0.4477, 0.5523],\n",
       "        [0.4502, 0.5498],\n",
       "        [0.4490, 0.5510],\n",
       "        [0.4487, 0.5513],\n",
       "        [0.4496, 0.5504],\n",
       "        [0.4496, 0.5504],\n",
       "        [0.4489, 0.5511],\n",
       "        [0.4488, 0.5512],\n",
       "        [0.4512, 0.5488],\n",
       "        [0.4473, 0.5527],\n",
       "        [0.4500, 0.5500],\n",
       "        [0.4495, 0.5505],\n",
       "        [0.4532, 0.5468],\n",
       "        [0.4506, 0.5494],\n",
       "        [0.4518, 0.5482],\n",
       "        [0.4530, 0.5470],\n",
       "        [0.4483, 0.5517],\n",
       "        [0.4505, 0.5495],\n",
       "        [0.4497, 0.5503],\n",
       "        [0.4518, 0.5482],\n",
       "        [0.4485, 0.5515],\n",
       "        [0.4500, 0.5500],\n",
       "        [0.4464, 0.5536]], grad_fn=<SoftmaxBackward0>)"
      ]
     },
     "execution_count": 87,
     "metadata": {},
     "output_type": "execute_result"
    }
   ],
   "source": [
    "pred_probab"
   ]
  },
  {
   "cell_type": "code",
   "execution_count": null,
   "id": "a0ae6b0c-e145-4e07-94a1-a25a4f2c6d24",
   "metadata": {},
   "outputs": [],
   "source": []
  }
 ],
 "metadata": {
  "kernelspec": {
   "display_name": "Python 3 (ipykernel)",
   "language": "python",
   "name": "python3"
  },
  "language_info": {
   "codemirror_mode": {
    "name": "ipython",
    "version": 3
   },
   "file_extension": ".py",
   "mimetype": "text/x-python",
   "name": "python",
   "nbconvert_exporter": "python",
   "pygments_lexer": "ipython3",
   "version": "3.11.4"
  }
 },
 "nbformat": 4,
 "nbformat_minor": 5
}
